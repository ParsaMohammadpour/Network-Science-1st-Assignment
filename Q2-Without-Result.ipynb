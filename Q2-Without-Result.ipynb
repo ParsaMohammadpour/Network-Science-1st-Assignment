{
 "cells": [
  {
   "cell_type": "code",
   "execution_count": null,
   "id": "3c7027b7",
   "metadata": {},
   "outputs": [],
   "source": [
    "import networkx as nx\n",
    "import matplotlib.pyplot as plt\n",
    "import numpy as np\n",
    "import random\n",
    "from collections import Counter\n",
    "import os"
   ]
  },
  {
   "cell_type": "markdown",
   "id": "c662e4ca",
   "metadata": {},
   "source": [
    "# Initialization"
   ]
  },
  {
   "cell_type": "markdown",
   "id": "d83039f8",
   "metadata": {},
   "source": [
    "### Parameters"
   ]
  },
  {
   "cell_type": "code",
   "execution_count": null,
   "id": "b1a5fad9",
   "metadata": {},
   "outputs": [],
   "source": [
    "MIN_NODE_NOMBER = 20\n",
    "MAX_NODE_NUMBER = 50\n",
    "GRAPH_NUMBER = 100\n",
    "FAILURE = [i/100 for i in range(1, 31)]\n",
    "SIMULATION_NUMBER = 100"
   ]
  },
  {
   "cell_type": "markdown",
   "id": "54f93249",
   "metadata": {},
   "source": [
    "### Making Folders"
   ]
  },
  {
   "cell_type": "code",
   "execution_count": null,
   "id": "4f4e20a7",
   "metadata": {},
   "outputs": [],
   "source": [
    "SMALL_WORLD_PATH = {'root': 'Small-world'\n",
    "                    , 'degree': 'Small-World/Degree-Distributions'\n",
    "                    , 'graph': 'Small-World/Graphs'\n",
    "                    , 'log': 'Small-World/Double-Log'\n",
    "                    , 'sim-node': 'Small-World/Simulation/NodeFailure'\n",
    "                    , 'sim-edge': 'Small-World/Simulation/EdgeFailure'\n",
    "                    , 'sim-node-compare': 'Small-World/Simulation/NodeFailureCompare'\n",
    "                    , 'sim-edge-compare': 'Small-World/Simulation/EdgeFailureCompare'\n",
    "                    , 'ci-node-isolation': 'Small-World/Simulation/CI-Isolation'\n",
    "                    , 'ci-edge-isolation': 'Small-World/Simulation/CI-Isolation'\n",
    "                    , 'ci-node-disconnection': 'Small-World/Simulation/CI-Disconnection'\n",
    "                    , 'ci-edge-disconnection': 'Small-World/Simulation/CI-Disconnection'}\n",
    "\n",
    "for path in SMALL_WORLD_PATH.values():\n",
    "    os.mkdir(path) if not os.path.exists(path) else None\n",
    "\n",
    "SCALE_FREE_PATH = {'root': 'Scale-Free'\n",
    "                    , 'degree': 'Scale-Free/Degree-Distributions'\n",
    "                    , 'graph': 'Scale-Free/Graphs'\n",
    "                    , 'log': 'Scale-Free/Double-Log'\n",
    "                    , 'sim-node': 'Scale-Free/Simulation/NodeFailure'\n",
    "                    , 'sim-edge': 'Scale-Free/Simulation/EdgeFailure'\n",
    "                    , 'sim-node-compare': 'Scale-Free/Simulation/NodeFailureCompare'\n",
    "                    , 'sim-edge-compare': 'Scale-Free/Simulation/EdgeFailureCompare'\n",
    "                    , 'ci-node-isolation': 'Scale-Free/Simulation/CI-Isolation'\n",
    "                    , 'ci-edge-isolation': 'Scale-Free/Simulation/CI-Isolation'\n",
    "                    , 'ci-node-disconnection': 'Scale-Free/Simulation/CI-Disconnection'\n",
    "                    , 'ci-edge-disconnection': 'Scale-Free/Simulation/CI-Disconnection'}\n",
    "\n",
    "for path in SCALE_FREE_PATH.values():\n",
    "    os.mkdir(path) if not os.path.exists(path) else None\n",
    "\n",
    "RANDOM_PATH = {'root': 'Random'\n",
    "                    , 'degree': 'Random/Degree-Distributions'\n",
    "                    , 'graph': 'Random/Graphs'\n",
    "                    , 'log': 'Random/Double-Log'\n",
    "                    , 'sim-node': 'Random/Simulation/NodeFailure'\n",
    "                    , 'sim-edge': 'Random/Simulation/EdgeFailure'\n",
    "                    , 'sim-node-compare': 'Random/Simulation/NodeFailureCompare'\n",
    "                    , 'sim-edge-compare': 'Random/Simulation/EdgeFailureCompare'\n",
    "                    , 'ci-node-isolation': 'Random/Simulation/CI-Isolation'\n",
    "                    , 'ci-edge-isolation': 'Random/Simulation/CI-Isolation'\n",
    "                    , 'ci-node-disconnection': 'Random/Simulation/CI-Disconnection'\n",
    "                    , 'ci-edge-disconnection': 'Random/Simulation/CI-Disconnection'}\n",
    "\n",
    "for path in RANDOM_PATH.values():\n",
    "    os.mkdir(path) if not os.path.exists(path) else None"
   ]
  },
  {
   "cell_type": "markdown",
   "id": "97999d1b",
   "metadata": {},
   "source": [
    "### Function For Saving Graphs & Plots"
   ]
  },
  {
   "cell_type": "code",
   "execution_count": null,
   "id": "532782a8",
   "metadata": {},
   "outputs": [],
   "source": [
    "def save_graph_base(graph_infos, PATH):\n",
    "    counter = 1\n",
    "    for graph_info in graph_infos:\n",
    "        graph_path = PATH['graph'] + '/' + str(counter) + '.png'\n",
    "        show_graph(graph_info['graph'], path=graph_path)\n",
    "        \n",
    "        degree_path = PATH['degree'] + '/' + str(counter) + '.png'\n",
    "        degree_distribution(graph_info['graph'], path=degree_path)\n",
    "        \n",
    "        log_path = PATH['log'] + '/' + str(counter) + '.png'\n",
    "        double_log(graph_info['graph'], path=log_path)\n",
    "        counter = counter + 1"
   ]
  },
  {
   "cell_type": "markdown",
   "id": "f4e1efd9",
   "metadata": {},
   "source": [
    "# Some Plots"
   ]
  },
  {
   "cell_type": "code",
   "execution_count": null,
   "id": "5ba3be88",
   "metadata": {
    "scrolled": true
   },
   "outputs": [],
   "source": [
    "def coefficient_interval_plot(data, path=None, alpha=0.95):\n",
    "    x = np.array([i for i in range(len(data))])\n",
    "    y = np.array(data)\n",
    "    # plotting\n",
    "    plt.plot(y, x,'o', color='blue', label='data')\n",
    "    \n",
    "    # confidence intervals\n",
    "    p = ((1.0-alpha)/2.0) * 100\n",
    "    # percentile function returns the numbers which that percent of \n",
    "    # the array elements areless equal then that number\n",
    "    lower =  np.percentile(y, p) \n",
    "    p = (alpha+((1.0-alpha)/2.0)) * 100\n",
    "    upper =  np.percentile(y, p)\n",
    "#     print(f\"\\n{alpha*100} confidence interval {lower} and {upper}\")\n",
    "    \n",
    "    # c.i upper & lower\n",
    "    upper_y = np.array([0, len(data)])\n",
    "    upper_x = np.array([upper, upper])\n",
    "    plt.plot(upper_x, upper_y, color='red', linestyle='-.', label='upper c.i')\n",
    "    \n",
    "    lower_y = np.array([0, len(data)])\n",
    "    lower_x = np.array([lower, lower])\n",
    "    plt.plot(lower_x, lower_y, color='orange', linestyle='-.', label='lower c.i')\n",
    "    \n",
    "    ci_x = np.array([lower, upper])\n",
    "    ci_y = np.array([0, 0])\n",
    "    plt.plot(ci_x, ci_y, '-', color='green', label='c.i')\n",
    "    plt.legend(loc='best')\n",
    "    if path != None:\n",
    "        plt.savefig(path+'.png')\n",
    "    plt.show()"
   ]
  },
  {
   "cell_type": "code",
   "execution_count": null,
   "id": "f3b6ca34",
   "metadata": {},
   "outputs": [],
   "source": [
    "def coefficient_interval_plot2(data, path=None, alpha=0.95):\n",
    "    x = np.array(list(range(len(data))))\n",
    "    y = np.array(data)\n",
    "    # Plotting data\n",
    "    plt.plot(x, y, '-o', color='red', label='data')\n",
    "    \n",
    "    # Define the confidence interval\n",
    "    ci = (1.0-alpha) * np.std(y) / np.mean(y)\n",
    "    \n",
    "    # Plot the confidence interval\n",
    "    plt.fill_between(x, (y-ci), (y+ci), color='blue', alpha=0.1)\n",
    "    plt.plot(x, (y-2*ci), '--', color='blue', label='-*ci')\n",
    "    plt.plot(x, (y+2*ci), '--', color='blue', label='+*ci')\n",
    "    plt.fill_between(x, (y-2*ci), (y+2*ci), color='green', alpha=.1)\n",
    "    plt.plot(x, (y-2*ci), '--', color='green', label='-2*ci')\n",
    "    plt.plot(x, (y+2*ci), '--', color='green', label='+2*ci')\n",
    "    plt.legend(loc='best')\n",
    "    if path != None:\n",
    "        plt.savefig(path+'.png')\n",
    "    plt.show()"
   ]
  },
  {
   "cell_type": "code",
   "execution_count": null,
   "id": "002fa7f8",
   "metadata": {},
   "outputs": [],
   "source": [
    "def coefficient_interval_plot3(data, path=None, alpha=0.95):\n",
    "    x = np.array(list(range(len(data))))\n",
    "    y = np.array(data)\n",
    "    # Plotting data\n",
    "    plt.plot(x, y, '-o', color='red', label='data')\n",
    "    \n",
    "    # confidence intervals\n",
    "    ci = (1.0-alpha) * np.std(y) / np.mean(y)\n",
    "    mean = np.mean(y)\n",
    "    avg = [mean for i in range(len(data))]\n",
    "    \n",
    "    # Plot the confidence interval\n",
    "    plt.fill_between(x, (avg-ci), (avg+ci), color='blue', alpha=0.1)\n",
    "    plt.plot(x, (avg-ci), '--', color='blue', label='-*ci')\n",
    "    plt.plot(x, (avg+ci), '--', color='blue', label='+*ci')\n",
    "    plt.fill_between(x, (avg-2*ci), (avg+2*ci), color='green', alpha=.1)\n",
    "    plt.plot(x, (avg-2*ci), '--', color='green', label='-2*ci')\n",
    "    plt.plot(x, (avg+2*ci), '--', color='green', label='+2*ci')\n",
    "    plt.legend(loc='best')\n",
    "    if path != None:\n",
    "        plt.savefig(path+'.png')\n",
    "    plt.show()"
   ]
  },
  {
   "cell_type": "code",
   "execution_count": null,
   "id": "a400f6dc",
   "metadata": {},
   "outputs": [],
   "source": [
    "def simulation_diff_plot(isolation, disconnection, failure, path=None):\n",
    "    plt.plot(list(range(len(disconnection))),disconnection, 'o-', color = 'red', label='disconnection')\n",
    "    plt.plot(list(range(len(isolation))), isolation, 'o-', color = 'blue', label='isolation')\n",
    "    plt.title('isolation an probability results for failure ' + str(failure))\n",
    "    plt.xlabel('simulation number')\n",
    "    plt.ylabel('probability')\n",
    "    plt.legend(loc='best') # setting best location for labels\n",
    "    if path != None:\n",
    "        plt.savefig(path+'.png')\n",
    "    plt.show()"
   ]
  },
  {
   "cell_type": "code",
   "execution_count": null,
   "id": "87ee9331",
   "metadata": {},
   "outputs": [],
   "source": [
    "def draw_isolation_disconnection_plot(isolation, disconnection, path=None):\n",
    "    plt.plot(FAILURE, disconnection, 'o-', color='red', label='disconnection')\n",
    "    plt.plot(FAILURE, isolation, 'o-', color='blue', label='isolation')\n",
    "    plt.xlabel(\"node failure probability\")\n",
    "    plt.ylabel(\"probability\")\n",
    "    plt.title('isolation & disconnection Probability')\n",
    "    plt.legend(loc='best') # setting best location for labels\n",
    "    if path != None:\n",
    "        plt.savefig(path+'.png')\n",
    "    plt.show()"
   ]
  },
  {
   "cell_type": "code",
   "execution_count": null,
   "id": "bdb3cda9",
   "metadata": {},
   "outputs": [],
   "source": [
    "def show_graph(graph, path=None):\n",
    "    pos = nx.circular_layout(graph)\n",
    "    plt.figure(figsize = (12, 12))\n",
    "    nx.draw_networkx(graph, pos)\n",
    "    if path != None:\n",
    "        plt.savefig(path+'.png')\n",
    "    plt.show()"
   ]
  },
  {
   "cell_type": "code",
   "execution_count": null,
   "id": "3f9dd18c",
   "metadata": {
    "scrolled": true
   },
   "outputs": [],
   "source": [
    "def degree_distribution(graph, path=None):\n",
    "    degrees = [graph.degree(n) for n in graph.nodes()]\n",
    "    degree_freq_dic = Counter(degrees)\n",
    "    x_axis = degree_freq_dic.keys()\n",
    "    y_axis = degree_freq_dic.values()\n",
    "    plt.title('Degree Distribution')\n",
    "    plt.xlabel(\"Degree\")\n",
    "    plt.ylabel(\"Frequesncy\")\n",
    "    plt.plot(x_axis, y_axis, 'o')\n",
    "    if path != None:\n",
    "        plt.savefig(path+'.png')\n",
    "    plt.show()"
   ]
  },
  {
   "cell_type": "code",
   "execution_count": null,
   "id": "e47e4df6",
   "metadata": {
    "scrolled": true
   },
   "outputs": [],
   "source": [
    "def double_log(graph, path=None):\n",
    "    degrees = [graph.degree(n) for n in graph.nodes()]\n",
    "    degree_freq_dic = Counter(degrees)\n",
    "    unique_degrees = list(degree_freq_dic.keys())\n",
    "    frequency = list(degree_freq_dic.values())\n",
    "    x_axis = np.log(unique_degrees)\n",
    "    y_axis = np.log(frequency)\n",
    "    plt.xlabel(\"Degree\")\n",
    "    plt.ylabel(\"Frequesncy\")\n",
    "    plt.title('Double Log')\n",
    "    plt.plot(x_axis, y_axis, 'o')\n",
    "    if path != None:\n",
    "        plt.savefig(path+'.png')\n",
    "    plt.show()"
   ]
  },
  {
   "cell_type": "markdown",
   "id": "a8fcbbf3",
   "metadata": {},
   "source": [
    "# Function For Applying Failure"
   ]
  },
  {
   "cell_type": "code",
   "execution_count": null,
   "id": "bb2cd8e3",
   "metadata": {
    "scrolled": true
   },
   "outputs": [],
   "source": [
    "# removing nodes of graphs\n",
    "# returns graph after node failure\n",
    "def graph_node_failure(graph, failure):\n",
    "    nodes = [i for i in graph.nodes]\n",
    "    for node in nodes:\n",
    "        graph.remove_node(node) if random.uniform(0.0, 1) <= failure else None\n",
    "    \n",
    "    return graph"
   ]
  },
  {
   "cell_type": "code",
   "execution_count": null,
   "id": "dc2fa822",
   "metadata": {},
   "outputs": [],
   "source": [
    "# removing edges of graph\n",
    "# returns graph after edge failure\n",
    "def graph_edge_failure(graph, failure):\n",
    "    edges = [i for i in graph.edges]\n",
    "    for edge in edges:\n",
    "        graph.remove_edge(edge[0], edge[1]) if random.uniform(0.0, 1) <= failure else None\n",
    "    \n",
    "    return graph"
   ]
  },
  {
   "cell_type": "code",
   "execution_count": null,
   "id": "321ef32e",
   "metadata": {
    "scrolled": true
   },
   "outputs": [],
   "source": [
    "# iterate over all graphs & apply the failure\n",
    "# then iterate over new graphs (graphs after failure applied)\n",
    "# and returns isolation & disconnection probabillity\n",
    "def isolation_disconnection_for_failure(graphs, failure, is_node_failure=True):\n",
    "    new_graphs = []\n",
    "    if is_node_failure:\n",
    "        new_graphs = [graph_node_failure(graph.copy(), failure) for graph in graphs]\n",
    "    else:\n",
    "        new_graphs = [graph_edge_failure(graph.copy(), failure) for graph in graphs]\n",
    "    \n",
    "    isolation = [len(list(nx.isolates(graph))) > 0 for graph in new_graphs]\n",
    "    disconection = [not nx.is_connected(graph) for graph in new_graphs]\n",
    "    \n",
    "    isolation_probability = sum(isolation) / len(graphs)\n",
    "    disconnection_probability = sum(disconection) / len(graphs)\n",
    "    \n",
    "    return isolation_probability, disconnection_probability"
   ]
  },
  {
   "cell_type": "code",
   "execution_count": null,
   "id": "94eeb67d",
   "metadata": {
    "scrolled": true
   },
   "outputs": [],
   "source": [
    "def apply_failure(graphs, is_node_failure=True, path=None):\n",
    "    isolates = []\n",
    "    disconnect = []\n",
    "    for failure in FAILURE:\n",
    "        isolation_probability, disconnection_probability = isolation_disconnection_for_failure(graphs, failure, is_node_failure)\n",
    "        \n",
    "#         print('probability of isolated graphs for failure ' + str(failure) + ' is: ', isolation_probability)\n",
    "        isolates.append(isolation_probability)\n",
    "#         print('probability of isolated graphs for disconected ' + str(failure) + ' is: ', disconnection_probability)\n",
    "        disconnect.append(disconnection_probability)\n",
    "#         print()\n",
    "    \n",
    "    draw_isolation_disconnection_plot(isolates, disconnect, path)\n",
    "    return isolates, disconnect"
   ]
  },
  {
   "cell_type": "markdown",
   "id": "0f4b21d0",
   "metadata": {},
   "source": [
    "# Small World"
   ]
  },
  {
   "cell_type": "markdown",
   "id": "ccc81145",
   "metadata": {},
   "source": [
    "### Making Graph"
   ]
  },
  {
   "cell_type": "code",
   "execution_count": null,
   "id": "8bf5fb89",
   "metadata": {
    "scrolled": true
   },
   "outputs": [],
   "source": [
    "# n = number of nodes\n",
    "# k = number of nodes join by k nearest neighbors\n",
    "# p = probablity of rewiring each edge\n",
    "\n",
    "small_worlds = []\n",
    "for i in range(GRAPH_NUMBER):\n",
    "    nodes_number = random.randint(MIN_NODE_NOMBER, MAX_NODE_NUMBER)\n",
    "    k_neighbors = random.randrange(2, 10, 2)\n",
    "    rewiring_probability = random.uniform(0.3, 0.6)\n",
    "    graph = nx.watts_strogatz_graph(n=nodes_number, k=k_neighbors, p=rewiring_probability)\n",
    "    graph_dic = {\n",
    "        'nodes_number': nodes_number, \n",
    "        'k_neighbors': k_neighbors, \n",
    "        'rewiring_probability': rewiring_probability,\n",
    "        'graph': graph\n",
    "    }\n",
    "    small_worlds.append(graph_dic)"
   ]
  },
  {
   "cell_type": "markdown",
   "id": "9fff3e32",
   "metadata": {},
   "source": [
    "### Saving Plots"
   ]
  },
  {
   "cell_type": "code",
   "execution_count": null,
   "id": "ae9529ec",
   "metadata": {},
   "outputs": [],
   "source": [
    "# save_graph_base(small_worlds, SMALL_WORLD_PATH)"
   ]
  },
  {
   "cell_type": "markdown",
   "id": "17b96499",
   "metadata": {},
   "source": [
    "### Applying Node Failure"
   ]
  },
  {
   "cell_type": "code",
   "execution_count": null,
   "id": "b000abb7",
   "metadata": {
    "scrolled": true
   },
   "outputs": [],
   "source": [
    "graphs = [info['graph'] for info in small_worlds]\n",
    "\n",
    "isolations = []\n",
    "disconnections = []\n",
    "for i in range(SIMULATION_NUMBER):\n",
    "    path = SMALL_WORLD_PATH['sim-node'] + '/SimulationNumber' + str(i)\n",
    "    isolation, disconnection = apply_failure(graphs, is_node_failure=True, path=path)\n",
    "    isolations.append(isolation)\n",
    "    disconnections.append(disconnection)"
   ]
  },
  {
   "cell_type": "markdown",
   "id": "024601dd",
   "metadata": {},
   "source": [
    "###### Comparing Different Simulations for Node Failure"
   ]
  },
  {
   "cell_type": "code",
   "execution_count": null,
   "id": "633a7359",
   "metadata": {
    "scrolled": true
   },
   "outputs": [],
   "source": [
    "for sim_no in range(len(FAILURE)):\n",
    "    failure_isolations = [i[sim_no] for i in isolations]\n",
    "    failure_disconnections = [i[sim_no] for i in disconnections]\n",
    "    path = SMALL_WORLD_PATH['sim-node-compare'] + '/Failure' + str(int(100 * FAILURE[sim_no]))\n",
    "    simulation_diff_plot(failure_isolations, failure_disconnections, FAILURE[sim_no], path=path)"
   ]
  },
  {
   "cell_type": "markdown",
   "id": "bbb90b0a",
   "metadata": {},
   "source": [
    "###### Node C.I"
   ]
  },
  {
   "cell_type": "code",
   "execution_count": null,
   "id": "66a2c135",
   "metadata": {},
   "outputs": [],
   "source": [
    "for sim_no in range(len(FAILURE)):\n",
    "    # isolations way1:\n",
    "    failure_isolations = [i[sim_no] for i in isolations]\n",
    "    path = SMALL_WORLD_PATH['ci-node-isolation'] + '/Failure1-' + str(int(100 * FAILURE[sim_no]))\n",
    "    coefficient_interval_plot(failure_isolations, path=path)\n",
    "    \n",
    "    # isolations way2\n",
    "    path = SMALL_WORLD_PATH['ci-node-isolation'] + '/Failure2-' + str(int(100 * FAILURE[sim_no]))\n",
    "    coefficient_interval_plot2(failure_isolations, path=path)\n",
    "    \n",
    "    # isolations way3\n",
    "    path = SMALL_WORLD_PATH['ci-node-isolation'] + '/Failure3-' + str(int(100 * FAILURE[sim_no]))\n",
    "    coefficient_interval_plot3(failure_isolations, path=path)\n",
    "    \n",
    "    # disconnections way1\n",
    "    failure_disconnections = [i[sim_no] for i in disconnections]\n",
    "    path = SMALL_WORLD_PATH['ci-node-disconnection'] + '/Failure2-' + str(int(100 * FAILURE[sim_no]))\n",
    "    coefficient_interval_plot(failure_disconnections, path=path)\n",
    "    \n",
    "    # disconnections way2\n",
    "    path = SMALL_WORLD_PATH['ci-node-disconnection'] + '/Failure2-' + str(int(100 * FAILURE[sim_no]))\n",
    "    coefficient_interval_plot2(failure_disconnections, path=path)\n",
    "    \n",
    "    # disconnections way3\n",
    "    path = SMALL_WORLD_PATH['ci-node-disconnection'] + '/Failure3-' + str(int(100 * FAILURE[sim_no]))\n",
    "    coefficient_interval_plot3(failure_disconnections, path=path)"
   ]
  },
  {
   "cell_type": "markdown",
   "id": "8396d8aa",
   "metadata": {},
   "source": [
    "### Applying Edge Failure"
   ]
  },
  {
   "cell_type": "code",
   "execution_count": null,
   "id": "91d77ff5",
   "metadata": {
    "scrolled": true
   },
   "outputs": [],
   "source": [
    "graphs = [info['graph'] for info in small_worlds]\n",
    "\n",
    "isolations = []\n",
    "disconnections = []\n",
    "for i in range(SIMULATION_NUMBER):\n",
    "    path = SMALL_WORLD_PATH['sim-edge'] + '/SimulationNumber' + str(i)\n",
    "    isolation, disconnection = apply_failure(graphs, is_node_failure=False, path=path)\n",
    "    isolations.append(isolation)\n",
    "    disconnections.append(disconnection)"
   ]
  },
  {
   "cell_type": "markdown",
   "id": "f739b41e",
   "metadata": {},
   "source": [
    "###### Comparing Different Simulation for Edge Failure"
   ]
  },
  {
   "cell_type": "code",
   "execution_count": null,
   "id": "06884c6a",
   "metadata": {},
   "outputs": [],
   "source": [
    "for sim_no in range(len(FAILURE)):\n",
    "    failure_isolations = [i[sim_no] for i in isolations]\n",
    "    failure_disconnections = [i[sim_no] for i in disconnections]\n",
    "    path = SMALL_WORLD_PATH['sim-edge-compare'] + '/Failure' + str(int(100 * FAILURE[sim_no]))\n",
    "    simulation_diff_plot(failure_isolations, failure_disconnections, FAILURE[sim_no], path=path)"
   ]
  },
  {
   "cell_type": "markdown",
   "id": "77ea6432",
   "metadata": {},
   "source": [
    "###### Edge C.I"
   ]
  },
  {
   "cell_type": "code",
   "execution_count": null,
   "id": "7da85d20",
   "metadata": {
    "scrolled": true
   },
   "outputs": [],
   "source": [
    "for sim_no in range(len(FAILURE)):\n",
    "    # isolations way1:\n",
    "    failure_isolations = [i[sim_no] for i in isolations]\n",
    "    path = SMALL_WORLD_PATH['ci-edge-isolation'] + '/Failure1-' + str(int(100 * FAILURE[sim_no]))\n",
    "    coefficient_interval_plot(failure_isolations, path=path)\n",
    "    \n",
    "    # isolations way2\n",
    "    path = SMALL_WORLD_PATH['ci-edge-isolation'] + '/Failure2-' + str(int(100 * FAILURE[sim_no]))\n",
    "    coefficient_interval_plot2(failure_isolations, path=path)\n",
    "    \n",
    "    # isolations way3\n",
    "    path = SMALL_WORLD_PATH['ci-edge-isolation'] + '/Failure3-' + str(int(100 * FAILURE[sim_no]))\n",
    "    coefficient_interval_plot3(failure_isolations, path=path)\n",
    "    \n",
    "    # disconnections way1\n",
    "    failure_disconnections = [i[sim_no] for i in disconnections]\n",
    "    path = SMALL_WORLD_PATH['ci-edge-disconnection'] + '/Failure2-' + str(int(100 * FAILURE[sim_no]))\n",
    "    coefficient_interval_plot(failure_disconnections, path=path)\n",
    "    \n",
    "    # disconnections way2\n",
    "    path = SMALL_WORLD_PATH['ci-edge-disconnection'] + '/Failure2-' + str(int(100 * FAILURE[sim_no]))\n",
    "    coefficient_interval_plot2(failure_disconnections, path=path)\n",
    "    \n",
    "    # disconnections way3\n",
    "    path = SMALL_WORLD_PATH['ci-edge-disconnection'] + '/Failure3-' + str(int(100 * FAILURE[sim_no]))\n",
    "    coefficient_interval_plot3(failure_disconnections, path=path)"
   ]
  },
  {
   "cell_type": "markdown",
   "id": "11c0f656",
   "metadata": {},
   "source": [
    "# Scale Free"
   ]
  },
  {
   "cell_type": "markdown",
   "id": "b5170dc0",
   "metadata": {},
   "source": [
    "### Making Graph"
   ]
  },
  {
   "cell_type": "code",
   "execution_count": null,
   "id": "ddfda9b4",
   "metadata": {
    "scrolled": true
   },
   "outputs": [],
   "source": [
    "scale_frees = []\n",
    "for i in range(GRAPH_NUMBER):\n",
    "    nodes_number = random.randint(MIN_NODE_NOMBER, MAX_NODE_NUMBER)\n",
    "    graph = nx.scale_free_graph(n=nodes_number)\n",
    "    # we make the graph undirected & we remove self loops\n",
    "    graph = graph.to_undirected()\n",
    "    graph.remove_edges_from(nx.selfloop_edges(graph))\n",
    "    graph_dic = {\n",
    "        'nodes_number': nodes_number,\n",
    "        'graph': graph\n",
    "    }\n",
    "    scale_frees.append(graph_dic)"
   ]
  },
  {
   "cell_type": "markdown",
   "id": "c2d77625",
   "metadata": {},
   "source": [
    "### Saving Graph"
   ]
  },
  {
   "cell_type": "code",
   "execution_count": null,
   "id": "8aa8e251",
   "metadata": {},
   "outputs": [],
   "source": [
    "# save_graph_base(scale_frees, SCALE_FREE_PATH)"
   ]
  },
  {
   "cell_type": "markdown",
   "id": "187c183b",
   "metadata": {},
   "source": [
    "### Applying Node Failure"
   ]
  },
  {
   "cell_type": "code",
   "execution_count": null,
   "id": "88e1a040",
   "metadata": {
    "scrolled": true
   },
   "outputs": [],
   "source": [
    "graphs = [info['graph'] for info in scale_frees]\n",
    "\n",
    "isolations = []\n",
    "disconnections = []\n",
    "for i in range(SIMULATION_NUMBER):\n",
    "    path = SCALE_FREE_PATH['sim-node'] + '/SimulationNumber' + str(i)\n",
    "    isolation, disconnection = apply_failure(graphs, is_node_failure=True, path=path)\n",
    "    isolations.append(isolation)\n",
    "    disconnections.append(disconnection)"
   ]
  },
  {
   "cell_type": "markdown",
   "id": "4a35db7b",
   "metadata": {},
   "source": [
    "###### Comparing Different Node Failure"
   ]
  },
  {
   "cell_type": "code",
   "execution_count": null,
   "id": "94178912",
   "metadata": {
    "scrolled": true
   },
   "outputs": [],
   "source": [
    "for sim_no in range(len(FAILURE)):\n",
    "    failure_isolations = [i[sim_no] for i in isolations]\n",
    "    failure_disconnections = [i[sim_no] for i in disconnections]\n",
    "    path = SCALE_FREE_PATH['sim-node-compare'] + '/Failure' + str(int(100 * FAILURE[sim_no]))\n",
    "    simulation_diff_plot(failure_isolations, failure_disconnections, FAILURE[sim_no], path=path)"
   ]
  },
  {
   "cell_type": "markdown",
   "id": "2a6b4ba3",
   "metadata": {},
   "source": [
    "###### Node CI"
   ]
  },
  {
   "cell_type": "code",
   "execution_count": null,
   "id": "a799db77",
   "metadata": {},
   "outputs": [],
   "source": [
    "for sim_no in range(len(FAILURE)):\n",
    "    # isolations way1:\n",
    "    failure_isolations = [i[sim_no] for i in isolations]\n",
    "    path = SCALE_FREE_PATH['ci-node-isolation'] + '/Failure1-' + str(int(100 * FAILURE[sim_no]))\n",
    "    coefficient_interval_plot(failure_isolations, path=path)\n",
    "    \n",
    "    # isolations way2\n",
    "    path = SCALE_FREE_PATH['ci-node-isolation'] + '/Failure2-' + str(int(100 * FAILURE[sim_no]))\n",
    "    coefficient_interval_plot2(failure_isolations, path=path)\n",
    "    \n",
    "    # isolations way3\n",
    "    path = SCALE_FREE_PATH['ci-node-isolation'] + '/Failure3-' + str(int(100 * FAILURE[sim_no]))\n",
    "    coefficient_interval_plot3(failure_isolations, path=path)\n",
    "    \n",
    "    # disconnections way1\n",
    "    failure_disconnections = [i[sim_no] for i in disconnections]\n",
    "    path = SCALE_FREE_PATH['ci-node-disconnection'] + '/Failure2-' + str(int(100 * FAILURE[sim_no]))\n",
    "    coefficient_interval_plot(failure_disconnections, path=path)\n",
    "    \n",
    "    # disconnections way2\n",
    "    path = SCALE_FREE_PATH['ci-node-disconnection'] + '/Failure2-' + str(int(100 * FAILURE[sim_no]))\n",
    "    coefficient_interval_plot2(failure_disconnections, path=path)\n",
    "    \n",
    "    # disconnections way3\n",
    "    path = SCALE_FREE_PATH['ci-node-disconnection'] + '/Failure3-' + str(int(100 * FAILURE[sim_no]))\n",
    "    coefficient_interval_plot3(failure_disconnections, path=path)"
   ]
  },
  {
   "cell_type": "markdown",
   "id": "463ec7e2",
   "metadata": {},
   "source": [
    "### Applying Edge Failure"
   ]
  },
  {
   "cell_type": "code",
   "execution_count": null,
   "id": "515150f4",
   "metadata": {
    "scrolled": true
   },
   "outputs": [],
   "source": [
    "graphs = [info['graph'] for info in scale_frees]\n",
    "\n",
    "isolations = []\n",
    "disconnections = []\n",
    "for i in range(SIMULATION_NUMBER):\n",
    "    path = SCALE_FREE_PATH['sim-edge'] + '/SimulationNumber' + str(i)\n",
    "    isolation, disconnection = apply_failure(graphs, is_node_failure=True, path=path)\n",
    "    isolations.append(isolation)\n",
    "    disconnections.append(disconnection)"
   ]
  },
  {
   "cell_type": "markdown",
   "id": "30edc061",
   "metadata": {},
   "source": [
    "###### Comparing Different Edge Failures"
   ]
  },
  {
   "cell_type": "code",
   "execution_count": null,
   "id": "514d0c29",
   "metadata": {
    "scrolled": true
   },
   "outputs": [],
   "source": [
    "for sim_no in range(len(FAILURE)):\n",
    "    failure_isolations = [i[sim_no] for i in isolations]\n",
    "    failure_disconnections = [i[sim_no] for i in disconnections]\n",
    "    path = SCALE_FREE_PATH['sim-edge-compare'] + '/Failure' + str(int(100 * FAILURE[sim_no]))\n",
    "    simulation_diff_plot(failure_isolations, failure_disconnections, FAILURE[sim_no], path=path)"
   ]
  },
  {
   "cell_type": "markdown",
   "id": "46c0c6b1",
   "metadata": {},
   "source": [
    "###### Edge C.I"
   ]
  },
  {
   "cell_type": "code",
   "execution_count": null,
   "id": "f90ee47e",
   "metadata": {
    "scrolled": true
   },
   "outputs": [],
   "source": [
    "for sim_no in range(len(FAILURE)):\n",
    "    # isolations way1:\n",
    "    failure_isolations = [i[sim_no] for i in isolations]\n",
    "    path = SCALE_FREE_PATH['ci-edge-isolation'] + '/Failure1-' + str(int(100 * FAILURE[sim_no]))\n",
    "    coefficient_interval_plot(failure_isolations, path=path)\n",
    "    \n",
    "    # isolations way2\n",
    "    path = SCALE_FREE_PATH['ci-edge-isolation'] + '/Failure2-' + str(int(100 * FAILURE[sim_no]))\n",
    "    coefficient_interval_plot2(failure_isolations, path=path)\n",
    "    \n",
    "    # isolations way3\n",
    "    path = SCALE_FREE_PATH['ci-edge-isolation'] + '/Failure3-' + str(int(100 * FAILURE[sim_no]))\n",
    "    coefficient_interval_plot3(failure_isolations, path=path)\n",
    "    \n",
    "    # disconnections way1\n",
    "    failure_disconnections = [i[sim_no] for i in disconnections]\n",
    "    path = SCALE_FREE_PATH['ci-edge-disconnection'] + '/Failure2-' + str(int(100 * FAILURE[sim_no]))\n",
    "    coefficient_interval_plot(failure_disconnections, path=path)\n",
    "    \n",
    "    # disconnections way2\n",
    "    path = SCALE_FREE_PATH['ci-edge-disconnection'] + '/Failure2-' + str(int(100 * FAILURE[sim_no]))\n",
    "    coefficient_interval_plot2(failure_disconnections, path=path)\n",
    "    \n",
    "    # disconnections way3\n",
    "    path = SCALE_FREE_PATH['ci-edge-disconnection'] + '/Failure3-' + str(int(100 * FAILURE[sim_no]))\n",
    "    coefficient_interval_plot3(failure_disconnections, path=path)"
   ]
  },
  {
   "cell_type": "markdown",
   "id": "9eb9f5ae",
   "metadata": {},
   "source": [
    "# Random"
   ]
  },
  {
   "cell_type": "markdown",
   "id": "6ecf0ecc",
   "metadata": {},
   "source": [
    "### Making Graphs"
   ]
  },
  {
   "cell_type": "code",
   "execution_count": null,
   "id": "33cd1380",
   "metadata": {
    "scrolled": true
   },
   "outputs": [],
   "source": [
    "randoms = []\n",
    "for i in range(GRAPH_NUMBER):\n",
    "    nodes_number = random.randint(MIN_NODE_NOMBER, MAX_NODE_NUMBER)\n",
    "    edge_probability = random.uniform(0.15, 0.45)\n",
    "    graph = nx.erdos_renyi_graph(nodes_number, edge_probability)\n",
    "    graph_dic = {\n",
    "        'nodes_number': nodes_number,\n",
    "        'edge_probability': edge_probability,\n",
    "        'graph': graph\n",
    "    }\n",
    "    randoms.append(graph_dic)"
   ]
  },
  {
   "cell_type": "markdown",
   "id": "a3262c58",
   "metadata": {},
   "source": [
    "### Saving Graphs"
   ]
  },
  {
   "cell_type": "code",
   "execution_count": null,
   "id": "e96e487f",
   "metadata": {
    "scrolled": true
   },
   "outputs": [],
   "source": [
    "# save_graph_base(randoms, RANDOM_PATH)"
   ]
  },
  {
   "cell_type": "markdown",
   "id": "cffde931",
   "metadata": {},
   "source": [
    "### Applying Node Failure"
   ]
  },
  {
   "cell_type": "code",
   "execution_count": null,
   "id": "6d1c42b4",
   "metadata": {
    "scrolled": true
   },
   "outputs": [],
   "source": [
    "graphs = [info['graph'] for info in randoms]\n",
    "\n",
    "isolations = []\n",
    "disconnections = []\n",
    "for i in range(SIMULATION_NUMBER):\n",
    "    path = RANDOM_PATH['sim-node'] + '/SimulationNumber' + str(i)\n",
    "    isolation, disconnection = apply_failure(graphs, is_node_failure=True, path=path)\n",
    "    isolations.append(isolation)\n",
    "    disconnections.append(disconnection)"
   ]
  },
  {
   "cell_type": "markdown",
   "id": "a005aaa2",
   "metadata": {},
   "source": [
    "###### Comparing Different Node Failures"
   ]
  },
  {
   "cell_type": "code",
   "execution_count": null,
   "id": "bb9a522c",
   "metadata": {
    "scrolled": true
   },
   "outputs": [],
   "source": [
    "for sim_no in range(len(FAILURE)):\n",
    "    failure_isolations = [i[sim_no] for i in isolations]\n",
    "    failure_disconnections = [i[sim_no] for i in disconnections]\n",
    "    path = RANDOM_PATH['sim-node-compare'] + '/Failure' + str(int(100 * FAILURE[sim_no]))\n",
    "    simulation_diff_plot(failure_isolations, failure_disconnections, FAILURE[sim_no], path=path)"
   ]
  },
  {
   "cell_type": "markdown",
   "id": "8edc2f76",
   "metadata": {},
   "source": [
    "###### Node C.I"
   ]
  },
  {
   "cell_type": "code",
   "execution_count": null,
   "id": "9063e126",
   "metadata": {
    "scrolled": true
   },
   "outputs": [],
   "source": [
    "for sim_no in range(len(FAILURE)):\n",
    "    # isolations way1:\n",
    "    failure_isolations = [i[sim_no] for i in isolations]\n",
    "    path = RANDOM_PATH['ci-node-isolation'] + '/Failure1-' + str(int(100 * FAILURE[sim_no]))\n",
    "    coefficient_interval_plot(failure_isolations, path=path)\n",
    "    \n",
    "    # isolations way2\n",
    "    path = RANDOM_PATH['ci-node-isolation'] + '/Failure2-' + str(int(100 * FAILURE[sim_no]))\n",
    "    coefficient_interval_plot2(failure_isolations, path=path)\n",
    "    \n",
    "    # isolations way3\n",
    "    path = RANDOM_PATH['ci-node-isolation'] + '/Failure3-' + str(int(100 * FAILURE[sim_no]))\n",
    "    coefficient_interval_plot3(failure_isolations, path=path)\n",
    "    \n",
    "    # disconnections way1\n",
    "    failure_disconnections = [i[sim_no] for i in disconnections]\n",
    "    path = RANDOM_PATH['ci-node-disconnection'] + '/Failure2-' + str(int(100 * FAILURE[sim_no]))\n",
    "    coefficient_interval_plot(failure_disconnections, path=path)\n",
    "    \n",
    "    # disconnections way2\n",
    "    path = RANDOM_PATH['ci-node-disconnection'] + '/Failure2-' + str(int(100 * FAILURE[sim_no]))\n",
    "    coefficient_interval_plot2(failure_disconnections, path=path)\n",
    "    \n",
    "    # disconnections way3\n",
    "    path = RANDOM_PATH['ci-node-disconnection'] + '/Failure3-' + str(int(100 * FAILURE[sim_no]))\n",
    "    coefficient_interval_plot3(failure_disconnections, path=path)"
   ]
  },
  {
   "cell_type": "markdown",
   "id": "80924b0b",
   "metadata": {},
   "source": [
    "### Applying Edge Failure"
   ]
  },
  {
   "cell_type": "code",
   "execution_count": null,
   "id": "da39b319",
   "metadata": {
    "scrolled": true
   },
   "outputs": [],
   "source": [
    "graphs = [info['graph'] for info in randoms]\n",
    "\n",
    "isolations = []\n",
    "disconnections = []\n",
    "for i in range(SIMULATION_NUMBER):\n",
    "    path = RANDOM_PATH['sim-edge'] + '/SimulationNumber' + str(i)\n",
    "    isolation, disconnection = apply_failure(graphs, is_node_failure=True, path=path)\n",
    "    isolations.append(isolation)\n",
    "    disconnections.append(disconnection)"
   ]
  },
  {
   "cell_type": "markdown",
   "id": "d74a49da",
   "metadata": {},
   "source": [
    "###### Comparing Different Edge Failure"
   ]
  },
  {
   "cell_type": "code",
   "execution_count": null,
   "id": "8b9859bf",
   "metadata": {},
   "outputs": [],
   "source": [
    "for sim_no in range(len(FAILURE)):\n",
    "    failure_isolations = [i[sim_no] for i in isolations]\n",
    "    failure_disconnections = [i[sim_no] for i in disconnections]\n",
    "    path = RANDOM_PATH['sim-edge-compare'] + '/Failure' + str(int(100 * FAILURE[sim_no]))\n",
    "    simulation_diff_plot(failure_isolations, failure_disconnections, FAILURE[sim_no], path=path)"
   ]
  },
  {
   "cell_type": "markdown",
   "id": "4b8080f6",
   "metadata": {},
   "source": [
    "###### Edge C.I"
   ]
  },
  {
   "cell_type": "code",
   "execution_count": null,
   "id": "f9c3af24",
   "metadata": {
    "scrolled": true
   },
   "outputs": [],
   "source": [
    "for sim_no in range(len(FAILURE)):\n",
    "    # isolations way1:\n",
    "    failure_isolations = [i[sim_no] for i in isolations]\n",
    "    path = RANDOM_PATH['ci-edge-isolation'] + '/Failure1-' + str(int(100 * FAILURE[sim_no]))\n",
    "    coefficient_interval_plot(failure_isolations, path=path)\n",
    "    \n",
    "    # isolations way2\n",
    "    path = RANDOM_PATH['ci-edge-isolation'] + '/Failure2-' + str(int(100 * FAILURE[sim_no]))\n",
    "    coefficient_interval_plot2(failure_isolations, path=path)\n",
    "    \n",
    "    # isolations way3\n",
    "    path = RANDOM_PATH['ci-edge-isolation'] + '/Failure3-' + str(int(100 * FAILURE[sim_no]))\n",
    "    coefficient_interval_plot3(failure_isolations, path=path)\n",
    "    \n",
    "    # disconnections way1\n",
    "    failure_disconnections = [i[sim_no] for i in disconnections]\n",
    "    path = RANDOM_PATH['ci-edge-disconnection'] + '/Failure2-' + str(int(100 * FAILURE[sim_no]))\n",
    "    coefficient_interval_plot(failure_disconnections, path=path)\n",
    "    \n",
    "    # disconnections way2\n",
    "    path = RANDOM_PATH['ci-edge-disconnection'] + '/Failure2-' + str(int(100 * FAILURE[sim_no]))\n",
    "    coefficient_interval_plot2(failure_disconnections, path=path)\n",
    "    \n",
    "    # disconnections way3\n",
    "    path = RANDOM_PATH['ci-edge-disconnection'] + '/Failure3-' + str(int(100 * FAILURE[sim_no]))\n",
    "    coefficient_interval_plot3(failure_disconnections, path=path)"
   ]
  }
 ],
 "metadata": {
  "kernelspec": {
   "display_name": "Python 3 (ipykernel)",
   "language": "python",
   "name": "python3"
  },
  "language_info": {
   "codemirror_mode": {
    "name": "ipython",
    "version": 3
   },
   "file_extension": ".py",
   "mimetype": "text/x-python",
   "name": "python",
   "nbconvert_exporter": "python",
   "pygments_lexer": "ipython3",
   "version": "3.11.3"
  }
 },
 "nbformat": 4,
 "nbformat_minor": 5
}
